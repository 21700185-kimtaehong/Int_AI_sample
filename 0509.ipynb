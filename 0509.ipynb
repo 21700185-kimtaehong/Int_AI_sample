{
  "nbformat": 4,
  "nbformat_minor": 0,
  "metadata": {
    "colab": {
      "provenance": [],
      "authorship_tag": "ABX9TyO3na1d+VXO6WCESbftwC9d",
      "include_colab_link": true
    },
    "kernelspec": {
      "name": "python3",
      "display_name": "Python 3"
    },
    "language_info": {
      "name": "python"
    }
  },
  "cells": [
    {
      "cell_type": "markdown",
      "metadata": {
        "id": "view-in-github",
        "colab_type": "text"
      },
      "source": [
        "<a href=\"https://colab.research.google.com/github/21700185-kimtaehong/Int_AI_sample/blob/main/0509.ipynb\" target=\"_parent\"><img src=\"https://colab.research.google.com/assets/colab-badge.svg\" alt=\"Open In Colab\"/></a>"
      ]
    },
    {
      "cell_type": "code",
      "execution_count": null,
      "metadata": {
        "id": "2MT8brHaXejo"
      },
      "outputs": [],
      "source": [
        "#Cleaning\n",
        "#Removing HTML tag\n",
        "def remove_html(text_data):\n",
        "  \"\"\"\n",
        "  remove_html takes raw text and removes htmls tags from the text.\n",
        "  \"\"\"\n",
        "  soup = BeautifulSoup(text_data, 'lxml')\n",
        "  return soup.get_text()\n",
        "\n",
        "processed_text = remove_html(str_data)\n",
        "#print(processed_text)"
      ]
    },
    {
      "cell_type": "code",
      "source": [
        "#Removing punctuation\n",
        "print('Punctuation: ', string.punctuation)\n",
        "\n",
        "def remove_punctuation(text):\n",
        "  sent = []\n",
        "  for t in text.split(''):\n",
        "    no_punct = \"\".join([c for c in t if c not in string.punctuation])\n",
        "    sent.append(no_punct)\n",
        "\n",
        "  sentence = \" \".join(s for s in sent)\n",
        "  return sentence\n",
        "\n",
        "rmv_punc_sentence = remove_punctuation(processed_text)\n",
        "#print(rmv_punc_sentence)"
      ],
      "metadata": {
        "id": "r_Umu7maZRSL"
      },
      "execution_count": null,
      "outputs": []
    },
    {
      "cell_type": "code",
      "source": [
        "#lower case\n",
        "lower_sentence = rmv_punc_sentence.lower()\n",
        "#print(lower_sentence)"
      ],
      "metadata": {
        "id": "N8nNcMhSacMq"
      },
      "execution_count": null,
      "outputs": []
    },
    {
      "cell_type": "code",
      "source": [
        "#import spacy library\n",
        "import spacy\n",
        "# load the installed model \"en_core web_sm\" into \"nlp\"\n",
        "nlp = spacy.load('en_core_web_sm')"
      ],
      "metadata": {
        "id": "e0pnmv2vcnWb"
      },
      "execution_count": null,
      "outputs": []
    },
    {
      "cell_type": "code",
      "source": [
        "#doc is a sequence of Token objects\n",
        "#it holds all information about the tokens, their linguistic features and their relationship\n",
        "doc = nlp(lower_sentence.strip())"
      ],
      "metadata": {
        "id": "yw-y9q_hiCWr"
      },
      "execution_count": null,
      "outputs": []
    },
    {
      "cell_type": "code",
      "source": [
        "tok_lem_sentence = [(token.text, token.lemma_) for token in doc]\n",
        "#tok_lem_sentence[:15]"
      ],
      "metadata": {
        "id": "0w1RVuS5iSjE"
      },
      "execution_count": null,
      "outputs": []
    },
    {
      "cell_type": "code",
      "source": [
        "#nltk.download('stopwords')\n",
        "from nltk.corpus import stopwords\n",
        "\n",
        "#print(stopwords.words('english')[:10])\n",
        "#print(len(stopwords.words('english')))"
      ],
      "metadata": {
        "id": "jxbM7yRvnLQb"
      },
      "execution_count": null,
      "outputs": []
    },
    {
      "cell_type": "code",
      "source": [
        "from nltk.corpus import stopwords\n",
        "\n",
        "stop_words = set(stopwords. words('english'))\n",
        "\n",
        "print(tok_lem_sentence, '\\n')\n",
        "rmv_sw_sentence = [w for w in tok_lem_sentence if not w in stop_words]\n",
        "print(rmv_sw_sentence)\n",
        "removed_word = [w for w in tok_lem_sentence if not w in rmv_sw_sentence]\n",
        "print(\"\\nRemoved word: \", set(removed_word))"
      ],
      "metadata": {
        "id": "XwFxpXl5nfFT"
      },
      "execution_count": null,
      "outputs": []
    },
    {
      "cell_type": "code",
      "source": [],
      "metadata": {
        "id": "J5PJTx3unpgz"
      },
      "execution_count": null,
      "outputs": []
    }
  ]
}