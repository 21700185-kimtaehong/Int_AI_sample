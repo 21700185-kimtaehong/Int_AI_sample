{
  "nbformat": 4,
  "nbformat_minor": 0,
  "metadata": {
    "colab": {
      "provenance": [],
      "authorship_tag": "ABX9TyMbFaijHnD4yxB2PFvN34Qz",
      "include_colab_link": true
    },
    "kernelspec": {
      "name": "python3",
      "display_name": "Python 3"
    },
    "language_info": {
      "name": "python"
    }
  },
  "cells": [
    {
      "cell_type": "markdown",
      "metadata": {
        "id": "view-in-github",
        "colab_type": "text"
      },
      "source": [
        "<a href=\"https://colab.research.google.com/github/21700185-kimtaehong/Int_AI_sample/blob/main/Untitled4.ipynb\" target=\"_parent\"><img src=\"https://colab.research.google.com/assets/colab-badge.svg\" alt=\"Open In Colab\"/></a>"
      ]
    },
    {
      "cell_type": "code",
      "execution_count": null,
      "metadata": {
        "id": "ZrddRFiWhoaT"
      },
      "outputs": [],
      "source": [
        "import numpy as np\n",
        "import openpyxl # if you don’t’ have this, then pip install openpyxl first\n",
        "\n",
        "file= openpyxl.load_workbook('data_set_train.xlsx') # assuming that the file is in the current directory\n",
        "ws = file.active\n",
        "\n",
        "data=[] # list type\n",
        "col_name=[] # list type\n",
        "\n",
        "for row in ws.iter_rows(max_row=1): # read the first row\n",
        "  for cell in row:\n",
        "    col_name.append(cell.value)\n",
        "for row in ws.iter_rows(min_row=2): # read from the 2nd row\n",
        "  one_line=[]\n",
        "  for cell in row:\n",
        "    one_line.append(cell.value)\n",
        "  data.append(one_line)\n",
        "\n",
        "\n",
        "data[:1]"
      ]
    },
    {
      "cell_type": "code",
      "source": [
        "import numpy as np\n",
        "import openpyxl\n",
        "\n",
        "file = openpyxl.load_workbook('data_set_train.xlsx')\n",
        "ws = file.active\n",
        "\n",
        "yearqrt = []\n",
        "price = []\n",
        "\n",
        "for row in ws.iter_cols(min_col=2, max_col=2, min_row=2):\n",
        "    for cell in row:\n",
        "        if 'Q' not in str(cell.value):\n",
        "            continue\n",
        "        year_temp, qrt_temp = str(cell.value).split(\"Q\")\n",
        "        temp = np.array([year_temp, qrt_temp])\n",
        "        yearqrt.append(temp)\n",
        "\n",
        "for row in ws.iter_cols(min_col=3, max_col=3, min_row=2):\n",
        "    for cell in row:\n",
        "        try:\n",
        "            price.append(float(cell.value))\n",
        "        except ValueError:\n",
        "            continue \n",
        "\n",
        "first = yearqrt[0]\n",
        "year_now = first[0]\n",
        "qrt_now = first[1]\n",
        "price_now = 0\n",
        "divide_num = 0\n",
        "\n",
        "print(year_now + \"Q\" + qrt_now + \" avg : \", end=\"\")\n",
        "\n",
        "for index, item in enumerate(yearqrt):\n",
        "  if year_now == item[0] and qrt_now == item[1]:  #\n",
        "    price_now = price_now + price[index]\n",
        "    divide_num += 1\n",
        "  elif year_now == item[0] and qrt_now != item[1]:\n",
        "    price_now = price_now / divide_num\n",
        "    print(\"{:<10.2f}\".format(price_now), end=\"\")\n",
        "    print(\"   \", end=\" \")\n",
        "    year_now = item[0]      #변수들 초기화\n",
        "    qrt_now = item[1]\n",
        "    divide_num = 1\n",
        "    price_now = price[index]\n",
        "    print(year_now + \"Q\" + qrt_now + \" avg :\", end=\"\")\n",
        "  elif year_now != item[0] and qrt_now != item[1]:\n",
        "    price_now = price_now / divide_num\n",
        "    print(\"{:<10.2f}\".format(price_now), end=\"\")\n",
        "    print(\"   \")\n",
        "    year_now = item[0]      #변수들 초기화\n",
        "    qrt_now = item[1]\n",
        "    divide_num = 1\n",
        "    price_now = price[index]\n",
        "    print(year_now + \"Q\" + qrt_now + \" avg : \", end=\"\")"
      ],
      "metadata": {
        "colab": {
          "base_uri": "https://localhost:8080/"
        },
        "id": "LB6_AKD5wzy8",
        "outputId": "da258858-b07b-4759-ef34-a31d64d88daa"
      },
      "execution_count": 34,
      "outputs": [
        {
          "output_type": "stream",
          "name": "stdout",
          "text": [
            "2006Q1 avg : 65661.17      2006Q2 avg :59592.49      2006Q3 avg :62410.72      2006Q4 avg :79588.83     \n",
            "2007Q1 avg : 47336.40      2007Q2 avg :65344.61      2007Q3 avg :58634.69      2007Q4 avg :59687.89     \n",
            "2008Q1 avg : 63515.58      2008Q2 avg :62458.85      2008Q3 avg :72233.96      2008Q4 avg :72608.62     \n",
            "2009Q1 avg : 85574.77      2009Q2 avg :84314.42      2009Q3 avg :83246.47      2009Q4 avg :78589.30     \n",
            "2010Q1 avg : 80386.73      2010Q2 avg :71885.82      2010Q3 avg :72697.58      2010Q4 avg :82475.98     \n",
            "2011Q1 avg : 77359.50      2011Q2 avg :68071.24      2011Q3 avg :78499.77      2011Q4 avg :82607.86     \n",
            "2012Q1 avg : 73633.61      2012Q2 avg :73102.35      2012Q3 avg :78050.49      2012Q4 avg :69313.77     \n",
            "2013Q1 avg : 77980.51      2013Q2 avg :76391.85      2013Q3 avg :76638.47      2013Q4 avg :84570.14     \n",
            "2014Q1 avg : 84038.77      2014Q2 avg :81931.40      2014Q3 avg :79218.36      2014Q4 avg :90134.39     \n",
            "2015Q1 avg : 76180.14      2015Q2 avg :81677.28      2015Q3 avg :98509.43      2015Q4 avg :93279.71     \n",
            "2016Q1 avg : 87456.07      2016Q2 avg :94492.74      2016Q3 avg :104774.82     2016Q4 avg :102236.93    \n",
            "2017Q1 avg : 113074.15     2017Q2 avg :110766.67     2017Q3 avg :"
          ]
        }
      ]
    },
    {
      "cell_type": "code",
      "source": [],
      "metadata": {
        "id": "to755pi-SqKj"
      },
      "execution_count": null,
      "outputs": []
    }
  ]
}