{
  "nbformat": 4,
  "nbformat_minor": 0,
  "metadata": {
    "colab": {
      "provenance": [],
      "authorship_tag": "ABX9TyOL+qT1SN20O34rqBwRyrhx",
      "include_colab_link": true
    },
    "kernelspec": {
      "name": "python3",
      "display_name": "Python 3"
    },
    "language_info": {
      "name": "python"
    },
    "accelerator": "GPU",
    "gpuClass": "standard"
  },
  "cells": [
    {
      "cell_type": "markdown",
      "metadata": {
        "id": "view-in-github",
        "colab_type": "text"
      },
      "source": [
        "<a href=\"https://colab.research.google.com/github/21700185-kimtaehong/Int_AI_sample/blob/main/0411.ipynb\" target=\"_parent\"><img src=\"https://colab.research.google.com/assets/colab-badge.svg\" alt=\"Open In Colab\"/></a>"
      ]
    },
    {
      "cell_type": "code",
      "execution_count": 1,
      "metadata": {
        "id": "-8L0hnaCPwRx"
      },
      "outputs": [],
      "source": [
        "from keras.layers import Input, Dense\n",
        "from keras.models import Model\n",
        "\n",
        "encoding_dim = 32\n",
        "input_img = Input(shape=(784,)) #784 = 28x28\n",
        "encoded = Dense(encoding_dim, activation='relu')(input_img)\n",
        "encoder = Model(input_img, encoded)"
      ]
    },
    {
      "cell_type": "code",
      "source": [
        "#need to re-define input layer for decoder input\n",
        "encoded_input = Input(shape=(encoding_dim,))\n",
        "decoded = Dense(784, activation='sigmoid')(encoded_input)\n",
        "decoder = Model(encoded_input, decoded)\n",
        "\n",
        "outputs = decoder(encoder(input_img))\n",
        "autoencoder = Model(input_img, outputs)\n",
        "autoencoder.compile(optimizer='adam', loss='binary_crossentropy')"
      ],
      "metadata": {
        "id": "eGldiW7xQDSh"
      },
      "execution_count": 2,
      "outputs": []
    },
    {
      "cell_type": "code",
      "source": [
        "from keras.datasets import mnist\n",
        "import numpy as np\n",
        "(x_train, _), (x_test, _) = mnist.load_data()\n",
        "\n",
        "# float32 / 255 : 값을 0~1로 만들기\n",
        "x_train = x_train.astype('float32') / 255.\n",
        "x_test = x_test.astype('float32') / 255.\n",
        "x_train = x_train.reshape((len(x_train), np.prod(x_train.shape[1:])))\n",
        "x_test = x_test.reshape((len(x_test), np.prod(x_test.shape[1:])))\n"
      ],
      "metadata": {
        "id": "Miv65Nm_QH0x"
      },
      "execution_count": 3,
      "outputs": []
    },
    {
      "cell_type": "code",
      "source": [
        "autoencoder.fit(x_train, x_train,epochs=50,batch_size=256,shuffle=True,validation_data=(x_test, x_test))\n",
        "\n",
        "encoded_imgs = encoder.predict(x_test)\n",
        "decoded_imgs = decoder.predict(encoded_imgs)"
      ],
      "metadata": {
        "colab": {
          "base_uri": "https://localhost:8080/"
        },
        "id": "R_CQHR0gRELg",
        "outputId": "2067167e-4739-455f-fe09-968f5541c83b"
      },
      "execution_count": 4,
      "outputs": [
        {
          "output_type": "stream",
          "name": "stdout",
          "text": [
            "Epoch 1/50\n",
            "235/235 [==============================] - 4s 7ms/step - loss: 0.2766 - val_loss: 0.1884\n",
            "Epoch 2/50\n",
            "235/235 [==============================] - 2s 7ms/step - loss: 0.1707 - val_loss: 0.1542\n",
            "Epoch 3/50\n",
            "235/235 [==============================] - 2s 7ms/step - loss: 0.1448 - val_loss: 0.1340\n",
            "Epoch 4/50\n",
            "235/235 [==============================] - 2s 6ms/step - loss: 0.1285 - val_loss: 0.1212\n",
            "Epoch 5/50\n",
            "235/235 [==============================] - 1s 6ms/step - loss: 0.1184 - val_loss: 0.1132\n",
            "Epoch 6/50\n",
            "235/235 [==============================] - 2s 8ms/step - loss: 0.1117 - val_loss: 0.1075\n",
            "Epoch 7/50\n",
            "235/235 [==============================] - 2s 8ms/step - loss: 0.1066 - val_loss: 0.1032\n",
            "Epoch 8/50\n",
            "235/235 [==============================] - 1s 6ms/step - loss: 0.1026 - val_loss: 0.0998\n",
            "Epoch 9/50\n",
            "235/235 [==============================] - 1s 6ms/step - loss: 0.0997 - val_loss: 0.0973\n",
            "Epoch 10/50\n",
            "235/235 [==============================] - 2s 7ms/step - loss: 0.0976 - val_loss: 0.0956\n",
            "Epoch 11/50\n",
            "235/235 [==============================] - 1s 6ms/step - loss: 0.0963 - val_loss: 0.0946\n",
            "Epoch 12/50\n",
            "235/235 [==============================] - 2s 8ms/step - loss: 0.0954 - val_loss: 0.0938\n",
            "Epoch 13/50\n",
            "235/235 [==============================] - 1s 6ms/step - loss: 0.0949 - val_loss: 0.0934\n",
            "Epoch 14/50\n",
            "235/235 [==============================] - 2s 9ms/step - loss: 0.0946 - val_loss: 0.0932\n",
            "Epoch 15/50\n",
            "235/235 [==============================] - 2s 7ms/step - loss: 0.0943 - val_loss: 0.0929\n",
            "Epoch 16/50\n",
            "235/235 [==============================] - 2s 7ms/step - loss: 0.0941 - val_loss: 0.0928\n",
            "Epoch 17/50\n",
            "235/235 [==============================] - 1s 6ms/step - loss: 0.0939 - val_loss: 0.0926\n",
            "Epoch 18/50\n",
            "235/235 [==============================] - 1s 6ms/step - loss: 0.0938 - val_loss: 0.0925\n",
            "Epoch 19/50\n",
            "235/235 [==============================] - 2s 6ms/step - loss: 0.0936 - val_loss: 0.0925\n",
            "Epoch 20/50\n",
            "235/235 [==============================] - 2s 7ms/step - loss: 0.0935 - val_loss: 0.0923\n",
            "Epoch 21/50\n",
            "235/235 [==============================] - 1s 4ms/step - loss: 0.0935 - val_loss: 0.0922\n",
            "Epoch 22/50\n",
            "235/235 [==============================] - 1s 4ms/step - loss: 0.0934 - val_loss: 0.0921\n",
            "Epoch 23/50\n",
            "235/235 [==============================] - 1s 5ms/step - loss: 0.0933 - val_loss: 0.0921\n",
            "Epoch 24/50\n",
            "235/235 [==============================] - 1s 5ms/step - loss: 0.0933 - val_loss: 0.0920\n",
            "Epoch 25/50\n",
            "235/235 [==============================] - 1s 4ms/step - loss: 0.0932 - val_loss: 0.0920\n",
            "Epoch 26/50\n",
            "235/235 [==============================] - 1s 4ms/step - loss: 0.0931 - val_loss: 0.0920\n",
            "Epoch 27/50\n",
            "235/235 [==============================] - 1s 4ms/step - loss: 0.0931 - val_loss: 0.0918\n",
            "Epoch 28/50\n",
            "235/235 [==============================] - 1s 4ms/step - loss: 0.0931 - val_loss: 0.0918\n",
            "Epoch 29/50\n",
            "235/235 [==============================] - 1s 4ms/step - loss: 0.0930 - val_loss: 0.0918\n",
            "Epoch 30/50\n",
            "235/235 [==============================] - 1s 4ms/step - loss: 0.0930 - val_loss: 0.0919\n",
            "Epoch 31/50\n",
            "235/235 [==============================] - 1s 4ms/step - loss: 0.0930 - val_loss: 0.0918\n",
            "Epoch 32/50\n",
            "235/235 [==============================] - 1s 4ms/step - loss: 0.0929 - val_loss: 0.0917\n",
            "Epoch 33/50\n",
            "235/235 [==============================] - 1s 4ms/step - loss: 0.0929 - val_loss: 0.0918\n",
            "Epoch 34/50\n",
            "235/235 [==============================] - 1s 4ms/step - loss: 0.0929 - val_loss: 0.0917\n",
            "Epoch 35/50\n",
            "235/235 [==============================] - 1s 5ms/step - loss: 0.0929 - val_loss: 0.0917\n",
            "Epoch 36/50\n",
            "235/235 [==============================] - 1s 5ms/step - loss: 0.0928 - val_loss: 0.0917\n",
            "Epoch 37/50\n",
            "235/235 [==============================] - 1s 4ms/step - loss: 0.0928 - val_loss: 0.0917\n",
            "Epoch 38/50\n",
            "235/235 [==============================] - 1s 4ms/step - loss: 0.0928 - val_loss: 0.0917\n",
            "Epoch 39/50\n",
            "235/235 [==============================] - 1s 4ms/step - loss: 0.0928 - val_loss: 0.0917\n",
            "Epoch 40/50\n",
            "235/235 [==============================] - 1s 4ms/step - loss: 0.0928 - val_loss: 0.0916\n",
            "Epoch 41/50\n",
            "235/235 [==============================] - 1s 4ms/step - loss: 0.0927 - val_loss: 0.0916\n",
            "Epoch 42/50\n",
            "235/235 [==============================] - 1s 4ms/step - loss: 0.0927 - val_loss: 0.0916\n",
            "Epoch 43/50\n",
            "235/235 [==============================] - 1s 4ms/step - loss: 0.0927 - val_loss: 0.0916\n",
            "Epoch 44/50\n",
            "235/235 [==============================] - 1s 4ms/step - loss: 0.0927 - val_loss: 0.0916\n",
            "Epoch 45/50\n",
            "235/235 [==============================] - 1s 4ms/step - loss: 0.0927 - val_loss: 0.0915\n",
            "Epoch 46/50\n",
            "235/235 [==============================] - 1s 4ms/step - loss: 0.0927 - val_loss: 0.0917\n",
            "Epoch 47/50\n",
            "235/235 [==============================] - 1s 4ms/step - loss: 0.0927 - val_loss: 0.0916\n",
            "Epoch 48/50\n",
            "235/235 [==============================] - 1s 5ms/step - loss: 0.0926 - val_loss: 0.0915\n",
            "Epoch 49/50\n",
            "235/235 [==============================] - 1s 4ms/step - loss: 0.0927 - val_loss: 0.0915\n",
            "Epoch 50/50\n",
            "235/235 [==============================] - 1s 4ms/step - loss: 0.0926 - val_loss: 0.0916\n",
            "313/313 [==============================] - 0s 1ms/step\n",
            "313/313 [==============================] - 0s 1ms/step\n"
          ]
        }
      ]
    },
    {
      "cell_type": "code",
      "source": [
        "import matplotlib.pyplot as plt\n",
        "\n",
        "def display(array1, array2):\n",
        "  \"\"\"\n",
        "  Displays ten random images from each one of the supplied arrays.\n",
        "  \"\"\"\n",
        "\n",
        "  n = 10 # how many digits we will display\n",
        "  plt.figure(figsize=(20, 4))\n",
        "\n",
        "  for i in range(n):\n",
        "    ax = plt.subplot(2, n, i + 1)\n",
        "    plt.imshow(x_test[i].reshape(28, 28))\n",
        "    plt.gray()\n",
        "    ax.get_xaxis().set_visible(False)\n",
        "    ax.get_yaxis().set_visible(False)\n",
        "    ax = plt.subplot(2, n, i + 1 + n)\n",
        "    plt.imshow(decoded_imgs[i].reshape(28, 28))\n",
        "    plt.gray()\n",
        "    ax.get_xaxis().set_visible(False)\n",
        "    ax.get_yaxis().set_visible(False)\n",
        "    \n",
        "  plt.show()\n"
      ],
      "metadata": {
        "id": "rsvW0rdUR24f"
      },
      "execution_count": 5,
      "outputs": []
    },
    {
      "cell_type": "code",
      "source": [
        "import tensorflow as tf\n",
        "\n",
        "from tensorflow.python.keras import layers\n",
        "# from tensorflow.python.keras.datasets import mnist\n",
        "from tensorflow.python.keras.models import Model\n",
        "\n",
        "def preprocess(array): \n",
        "  \"\"\" \n",
        "  Normalizes the supplied array and reshapes it into the appropriate format. \n",
        "  \"\"\" \n",
        "  \n",
        "  array = array.astype(\"float32\") / 255.0\n",
        "  array = np.reshape(array, (len(array), 28, 28, 1))\n",
        "  return array"
      ],
      "metadata": {
        "id": "-PHfhM4PWfTG"
      },
      "execution_count": 6,
      "outputs": []
    },
    {
      "cell_type": "code",
      "source": [
        "from keras.datasets import mnist\n",
        "import numpy as np\n",
        "\n",
        "(train_data, _), (test_data, _) = mnist.load_data()\n",
        "# Normalize and reshape the data\n",
        "train_data = preprocess(train_data)\n",
        "test_data = preprocess(test_data)"
      ],
      "metadata": {
        "id": "qzwI3AqbTLrA"
      },
      "execution_count": 7,
      "outputs": []
    },
    {
      "cell_type": "code",
      "source": [
        "input = layers.Input(shape=(28, 28, 1))\n",
        "# Encoder\n",
        "x = layers.Conv2D(32, (3, 3), activation=\"relu\", padding=\"same\")(input)\n",
        "x = layers.MaxPooling2D((2, 2), padding=\"same\")(x)\n",
        "x = layers.Conv2D(32, (3, 3), activation=\"relu\", padding=\"same\")(x)\n",
        "x = layers.MaxPooling2D((2, 2), padding=\"same\")(x)\n",
        "# Decoder\n",
        "x = layers.Conv2DTranspose(32, (3, 3), strides=2, activation=\"relu\", padding=\"same\")(x)\n",
        "x = layers.Conv2DTranspose(32, (3, 3), strides=2, activation=\"relu\", padding=\"same\")(x)\n",
        "x = layers.Conv2D(1, (3, 3), activation=\"sigmoid\", padding=\"same\")(x)\n",
        "# Autoencoder\n",
        "autoencoder = Model(input, x)\n",
        "autoencoder.compile(optimizer=\"adam\", loss=\"binary_crossentropy\")\n",
        "# autoencoder.summary()"
      ],
      "metadata": {
        "id": "78mBpvoATOcY"
      },
      "execution_count": 8,
      "outputs": []
    },
    {
      "cell_type": "code",
      "source": [
        "autoencoder.fit(\n",
        "  x=train_data,\n",
        "  y=train_data,\n",
        "  epochs=10,\n",
        "  batch_size=128,\n",
        "  shuffle=True,\n",
        "  validation_data=(test_data, test_data),\n",
        ")"
      ],
      "metadata": {
        "colab": {
          "base_uri": "https://localhost:8080/"
        },
        "id": "otqTFy8GTWYH",
        "outputId": "aac7dae0-b8d6-4245-c175-b9123658b1c0"
      },
      "execution_count": 9,
      "outputs": [
        {
          "output_type": "stream",
          "name": "stdout",
          "text": [
            "Epoch 1/10\n",
            "469/469 [==============================] - 6s 8ms/step - loss: 0.1381 - val_loss: 0.0736\n",
            "Epoch 2/10\n",
            "469/469 [==============================] - 3s 7ms/step - loss: 0.0719 - val_loss: 0.0697\n",
            "Epoch 3/10\n",
            "469/469 [==============================] - 4s 7ms/step - loss: 0.0694 - val_loss: 0.0682\n",
            "Epoch 4/10\n",
            "469/469 [==============================] - 3s 7ms/step - loss: 0.0682 - val_loss: 0.0672\n",
            "Epoch 5/10\n",
            "469/469 [==============================] - 3s 7ms/step - loss: 0.0673 - val_loss: 0.0666\n",
            "Epoch 6/10\n",
            "469/469 [==============================] - 3s 7ms/step - loss: 0.0667 - val_loss: 0.0661\n",
            "Epoch 7/10\n",
            "469/469 [==============================] - 4s 8ms/step - loss: 0.0663 - val_loss: 0.0656\n",
            "Epoch 8/10\n",
            "469/469 [==============================] - 3s 7ms/step - loss: 0.0659 - val_loss: 0.0652\n",
            "Epoch 9/10\n",
            "469/469 [==============================] - 3s 7ms/step - loss: 0.0655 - val_loss: 0.0650\n",
            "Epoch 10/10\n",
            "469/469 [==============================] - 3s 7ms/step - loss: 0.0652 - val_loss: 0.0647\n"
          ]
        },
        {
          "output_type": "execute_result",
          "data": {
            "text/plain": [
              "<tensorflow.python.keras.callbacks.History at 0x7f94100795b0>"
            ]
          },
          "metadata": {},
          "execution_count": 9
        }
      ]
    },
    {
      "cell_type": "code",
      "source": [
        "predictions = autoencoder.predict(test_data)\n",
        "display(test_data, predictions)"
      ],
      "metadata": {
        "colab": {
          "base_uri": "https://localhost:8080/",
          "height": 336
        },
        "id": "JAT7aCYATbDc",
        "outputId": "eaf4286a-b833-4cb1-b11e-a08c5a95d441"
      },
      "execution_count": 10,
      "outputs": [
        {
          "output_type": "display_data",
          "data": {
            "text/plain": [
              "<Figure size 2000x400 with 20 Axes>"
            ],
            "image/png": "[encoded data removed]"
          },
          "metadata": {}
        }
      ]
    },
    {
      "cell_type": "code",
      "source": [
        "def noise(array):\n",
        "  \"\"\"\n",
        "  Adds random noise to each image in the supplied array.\n",
        "  \"\"\"\n",
        "\n",
        "  noise_factor = 0.4\n",
        "  noisy_array = array + noise_factor * np.random.normal(\n",
        "    loc=0.0, scale=1.0, size=array.shape\n",
        "  )\n",
        "\n",
        "  return np.clip(noisy_array, 0.0, 1.0)"
      ],
      "metadata": {
        "id": "llwrgyT9TfRc"
      },
      "execution_count": 11,
      "outputs": []
    },
    {
      "cell_type": "code",
      "source": [
        "(train_data, _), (test_data, _) = mnist.load_data()\n",
        "\n",
        "# Normalize and reshape the data\n",
        "train_data = preprocess(train_data)\n",
        "test_data = preprocess(test_data)\n",
        "\n",
        "# Create a copy of the data with added noise\n",
        "noisy_train_data = noise(train_data)\n",
        "noisy_test_data = noise(test_data)\n",
        "\n",
        "# Display the train data and a version of it with added noise\n",
        "display(train_data, noisy_train_data)"
      ],
      "metadata": {
        "colab": {
          "base_uri": "https://localhost:8080/",
          "height": 336
        },
        "id": "F6p6T-PxToyR",
        "outputId": "e943de46-62dd-4d52-a23e-39e7c2c09be5"
      },
      "execution_count": 12,
      "outputs": [
        {
          "output_type": "display_data",
          "data": {
            "text/plain": [
              "<Figure size 2000x400 with 20 Axes>"
            ],
            "image/png": "[encoded data removed]"
          },
          "metadata": {}
        }
      ]
    },
    {
      "cell_type": "code",
      "source": [
        "autoencoder.fit(\n",
        "  x=noisy_train_data,\n",
        "  y=train_data,\n",
        "  epochs=10,\n",
        "  batch_size=128,\n",
        "  shuffle=True,\n",
        "  validation_data=(noisy_test_data, test_data),\n",
        ") "
      ],
      "metadata": {
        "colab": {
          "base_uri": "https://localhost:8080/"
        },
        "id": "fTgGxLz9TweB",
        "outputId": "8b54ad51-8087-48f8-b038-3d28f908c6da"
      },
      "execution_count": 13,
      "outputs": [
        {
          "output_type": "stream",
          "name": "stdout",
          "text": [
            "Epoch 1/10\n",
            "469/469 [==============================] - 4s 8ms/step - loss: 0.1007 - val_loss: 0.0934\n",
            "Epoch 2/10\n",
            "469/469 [==============================] - 3s 7ms/step - loss: 0.0929 - val_loss: 0.0912\n",
            "Epoch 3/10\n",
            "469/469 [==============================] - 3s 7ms/step - loss: 0.0913 - val_loss: 0.0901\n",
            "Epoch 4/10\n",
            "469/469 [==============================] - 4s 7ms/step - loss: 0.0904 - val_loss: 0.0895\n",
            "Epoch 5/10\n",
            "469/469 [==============================] - 3s 7ms/step - loss: 0.0896 - val_loss: 0.0890\n",
            "Epoch 6/10\n",
            "469/469 [==============================] - 3s 7ms/step - loss: 0.0891 - val_loss: 0.0883\n",
            "Epoch 7/10\n",
            "469/469 [==============================] - 3s 7ms/step - loss: 0.0887 - val_loss: 0.0878\n",
            "Epoch 8/10\n",
            "469/469 [==============================] - 4s 8ms/step - loss: 0.0883 - val_loss: 0.0876\n",
            "Epoch 9/10\n",
            "469/469 [==============================] - 3s 7ms/step - loss: 0.0880 - val_loss: 0.0876\n",
            "Epoch 10/10\n",
            "469/469 [==============================] - 3s 7ms/step - loss: 0.0877 - val_loss: 0.0869\n"
          ]
        },
        {
          "output_type": "execute_result",
          "data": {
            "text/plain": [
              "<tensorflow.python.keras.callbacks.History at 0x7f941c1e8760>"
            ]
          },
          "metadata": {},
          "execution_count": 13
        }
      ]
    },
    {
      "cell_type": "code",
      "source": [
        "predictions = autoencoder.predict(noisy_test_data)\n",
        "display(noisy_test_data, predictions)"
      ],
      "metadata": {
        "id": "E7jGfgAXT1Sn",
        "colab": {
          "base_uri": "https://localhost:8080/",
          "height": 336
        },
        "outputId": "a277e5c7-0cf2-47dd-e1df-61ac25143620"
      },
      "execution_count": 14,
      "outputs": [
        {
          "output_type": "display_data",
          "data": {
            "text/plain": [
              "<Figure size 2000x400 with 20 Axes>"
            ],
            "image/png": "[encoded data removed]"
          },
          "metadata": {}
        }
      ]
    }
  ]
}