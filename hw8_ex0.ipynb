{
  "nbformat": 4,
  "nbformat_minor": 0,
  "metadata": {
    "colab": {
      "provenance": [],
      "authorship_tag": "ABX9TyMYyaSGYZlUUnTV/DfqH+Re",
      "include_colab_link": true
    },
    "kernelspec": {
      "name": "python3",
      "display_name": "Python 3"
    },
    "language_info": {
      "name": "python"
    }
  },
  "cells": [
    {
      "cell_type": "markdown",
      "metadata": {
        "id": "view-in-github",
        "colab_type": "text"
      },
      "source": [
        "<a href=\"https://colab.research.google.com/github/21700185-kimtaehong/Int_AI_sample/blob/main/hw8_ex0.ipynb\" target=\"_parent\"><img src=\"https://colab.research.google.com/assets/colab-badge.svg\" alt=\"Open In Colab\"/></a>"
      ]
    },
    {
      "cell_type": "code",
      "execution_count": 54,
      "metadata": {
        "id": "2nvflwF6atD4"
      },
      "outputs": [],
      "source": [
        "import pandas as pd\n",
        "\n",
        "file_data = pd.read_csv('amazon_train_df.csv')"
      ]
    },
    {
      "cell_type": "code",
      "source": [
        "#change the name of columns\n",
        "file_data.columns = ['review_title', 'rating', 'review_date', 'customer_name', 'review']"
      ],
      "metadata": {
        "id": "tfU3-uDMinlA"
      },
      "execution_count": 55,
      "outputs": []
    },
    {
      "cell_type": "code",
      "source": [
        "#Cleaning\n",
        "#Removing HTML tag\n",
        "from bs4 import BeautifulSoup\n",
        "\n",
        "def remove_html(text_data):\n",
        "    if isinstance(text_data, str):\n",
        "        soup = BeautifulSoup(text_data, 'lxml')\n",
        "        return soup.get_text()\n",
        "    else:\n",
        "        return text_data\n",
        "\n",
        "# processed_text = remove_html(str_data)\n",
        "# print(processed_text)"
      ],
      "metadata": {
        "id": "pvAIXF6Ccmqa"
      },
      "execution_count": 56,
      "outputs": []
    },
    {
      "cell_type": "code",
      "source": [
        "for column in file_data.columns:\n",
        "    file_data[column] = file_data[column].apply(remove_html)"
      ],
      "metadata": {
        "colab": {
          "base_uri": "https://localhost:8080/"
        },
        "id": "EzvnqVuZkeqR",
        "outputId": "bf534c6b-ed21-4725-a227-63ec528e6426"
      },
      "execution_count": 57,
      "outputs": [
        {
          "output_type": "stream",
          "name": "stderr",
          "text": [
            "<ipython-input-56-ef53dc6469a0>:7: MarkupResemblesLocatorWarning: The input looks more like a filename than markup. You may want to open this file and pass the filehandle into Beautiful Soup.\n",
            "  soup = BeautifulSoup(text_data, 'lxml')\n"
          ]
        }
      ]
    },
    {
      "cell_type": "code",
      "source": [
        "#Removing punctuation\n",
        "import string\n",
        "print('Punctuation: ', string.punctuation)\n",
        "\n",
        "def remove_punctuation(text):\n",
        "    if not isinstance(text, str):\n",
        "        return text\n",
        "\n",
        "    sent = []\n",
        "    for t in text.split():\n",
        "        no_punct = \"\".join([c for c in t if c not in string.punctuation])\n",
        "        sent.append(no_punct)\n",
        "\n",
        "    sentence = \" \".join(s for s in sent)\n",
        "    return sentence\n",
        "\n",
        "# rmv_punc_sentence = remove_punctuation(processed_text)\n",
        "#print(rmv_punc_sentence)"
      ],
      "metadata": {
        "colab": {
          "base_uri": "https://localhost:8080/"
        },
        "id": "PEUU17yvmZ2d",
        "outputId": "7d9d8db7-8e46-4b85-e69c-3a924815740b"
      },
      "execution_count": 58,
      "outputs": [
        {
          "output_type": "stream",
          "name": "stdout",
          "text": [
            "Punctuation:  !\"#$%&'()*+,-./:;<=>?@[\\]^_`{|}~\n"
          ]
        }
      ]
    },
    {
      "cell_type": "code",
      "source": [
        "#lower case\n",
        "def to_lower_case(text_data):\n",
        "    if isinstance(text_data, str):\n",
        "        text_data = text_data.lower()\n",
        "        return text_data\n",
        "    else:\n",
        "        return text_data"
      ],
      "metadata": {
        "id": "6UwW2FKmxmlE"
      },
      "execution_count": 59,
      "outputs": []
    },
    {
      "cell_type": "code",
      "source": [
        "for column in file_data.columns:\n",
        "  file_data[column] = file_data[column].apply(remove_punctuation)\n",
        "  file_data[column] = file_data[column].apply(to_lower_case)"
      ],
      "metadata": {
        "id": "SscgHH2BmybN"
      },
      "execution_count": 60,
      "outputs": []
    },
    {
      "cell_type": "code",
      "source": [
        "import spacy\n",
        "nlp = spacy.load('en_core_web_sm')\n",
        "\n",
        "def tokenize_and_lemmatize(text):\n",
        "    if not isinstance(text, str):\n",
        "        return text\n",
        "\n",
        "    doc = nlp(text)\n",
        "    lemmas = [token.lemma_ for token in doc]\n",
        "    return \" \".join(lemmas)\n",
        "\n",
        "for column in file_data.columns:\n",
        "    file_data[column] = file_data[column].apply(tokenize_and_lemmatize)"
      ],
      "metadata": {
        "id": "cb3jeXIy1RZb"
      },
      "execution_count": 61,
      "outputs": []
    },
    {
      "cell_type": "code",
      "source": [
        "import spacy\n",
        "import nltk\n",
        "from nltk.corpus import stopwords\n",
        "\n",
        "nlp = spacy.load('en_core_web_sm')\n",
        "nltk.download('stopwords')\n",
        "stop_words = set(stopwords.words('english'))\n",
        "\n",
        "def remove_stopwords(text):\n",
        "    if not isinstance(text, str):\n",
        "        return text\n",
        "\n",
        "    doc = nlp(text)\n",
        "    tokens = [token.text for token in doc if token.text not in stop_words]\n",
        "    return \" \".join(tokens)"
      ],
      "metadata": {
        "colab": {
          "base_uri": "https://localhost:8080/"
        },
        "id": "w99CKS6w4oyV",
        "outputId": "aa2375a4-a58a-4caf-c61b-0030c15fafd9"
      },
      "execution_count": 62,
      "outputs": [
        {
          "output_type": "stream",
          "name": "stderr",
          "text": [
            "[nltk_data] Downloading package stopwords to /root/nltk_data...\n",
            "[nltk_data]   Unzipping corpora/stopwords.zip.\n"
          ]
        }
      ]
    }
  ]
}