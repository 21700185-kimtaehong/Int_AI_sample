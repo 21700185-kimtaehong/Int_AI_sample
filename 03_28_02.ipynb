{
  "nbformat": 4,
  "nbformat_minor": 0,
  "metadata": {
    "colab": {
      "provenance": [],
      "authorship_tag": "ABX9TyP+EXcVd1HbFgpTwmwYKykA",
      "include_colab_link": true
    },
    "kernelspec": {
      "name": "python3",
      "display_name": "Python 3"
    },
    "language_info": {
      "name": "python"
    },
    "accelerator": "GPU",
    "gpuClass": "standard"
  },
  "cells": [
    {
      "cell_type": "markdown",
      "metadata": {
        "id": "view-in-github",
        "colab_type": "text"
      },
      "source": [
        "<a href=\"https://colab.research.google.com/github/21700185-kimtaehong/Int_AI_sample/blob/main/03_28_02.ipynb\" target=\"_parent\"><img src=\"https://colab.research.google.com/assets/colab-badge.svg\" alt=\"Open In Colab\"/></a>"
      ]
    },
    {
      "cell_type": "code",
      "source": [
        "import matplotlib.pyplot as plt"
      ],
      "metadata": {
        "id": "4-FazSIAakeG"
      },
      "execution_count": 33,
      "outputs": []
    },
    {
      "cell_type": "code",
      "source": [
        "import tensorflow as tf\n",
        "from tensorflow import keras\n",
        "import numpy as np\n",
        "(x_train, y_train), (x_test, y_test) = keras.datasets.mnist.load_data()\n",
        "#x_train.shape\n",
        "# type(x_train[0,0,0])"
      ],
      "metadata": {
        "id": "Zfgx35PQaNnJ"
      },
      "execution_count": 34,
      "outputs": []
    },
    {
      "cell_type": "code",
      "source": [
        "x_train = x_train.reshape(x_train.shape[0], 28, 28, 1)\n",
        "#x_train.shape\n",
        "x_test = x_test.reshape(x_test.shape[0], 28, 28, 1)\n",
        "input_shape = (28, 28, 1)\n",
        "#input_shape"
      ],
      "metadata": {
        "id": "BMDsaS4JaHkl"
      },
      "execution_count": 35,
      "outputs": []
    },
    {
      "cell_type": "code",
      "source": [
        "y_train[0:10]\n",
        "num_classes = 10\n",
        "y_train = keras.utils.to_categorical(y_train, num_classes)\n",
        "y_test = keras.utils.to_categorical(y_test, num_classes)\n",
        "y_train[0:10]"
      ],
      "metadata": {
        "colab": {
          "base_uri": "https://localhost:8080/"
        },
        "id": "GqEMZdceaJiY",
        "outputId": "68a8ee19-1e3e-460f-bb1e-60aa9d4aaa53"
      },
      "execution_count": 36,
      "outputs": [
        {
          "output_type": "execute_result",
          "data": {
            "text/plain": [
              "array([[0., 0., 0., 0., 0., 1., 0., 0., 0., 0.],\n",
              "       [1., 0., 0., 0., 0., 0., 0., 0., 0., 0.],\n",
              "       [0., 0., 0., 0., 1., 0., 0., 0., 0., 0.],\n",
              "       [0., 1., 0., 0., 0., 0., 0., 0., 0., 0.],\n",
              "       [0., 0., 0., 0., 0., 0., 0., 0., 0., 1.],\n",
              "       [0., 0., 1., 0., 0., 0., 0., 0., 0., 0.],\n",
              "       [0., 1., 0., 0., 0., 0., 0., 0., 0., 0.],\n",
              "       [0., 0., 0., 1., 0., 0., 0., 0., 0., 0.],\n",
              "       [0., 1., 0., 0., 0., 0., 0., 0., 0., 0.],\n",
              "       [0., 0., 0., 0., 1., 0., 0., 0., 0., 0.]], dtype=float32)"
            ]
          },
          "metadata": {},
          "execution_count": 36
        }
      ]
    },
    {
      "cell_type": "code",
      "execution_count": 37,
      "metadata": {
        "id": "YHyRn_AoNK4n"
      },
      "outputs": [],
      "source": [
        "import sys\n",
        "import tensorflow as tf\n",
        "import keras\n",
        "from keras.models import Sequential\n",
        "from keras.layers import Dense, Dropout, Flatten\n",
        "from keras.layers.convolutional import Conv2D, MaxPooling2D\n",
        "import numpy as np\n",
        "np.random.seed(7)"
      ]
    },
    {
      "cell_type": "code",
      "source": [
        "model = Sequential()\n",
        "model.add(Conv2D(32, kernel_size=(5, 5), strides=(1, 1), padding='same', activation='relu', input_shape=input_shape))\n",
        "model.add(MaxPooling2D(pool_size=(2, 2), strides=(2, 2)))"
      ],
      "metadata": {
        "id": "0kkXUuUuSOY-"
      },
      "execution_count": 38,
      "outputs": []
    },
    {
      "cell_type": "code",
      "source": [
        "model.add(Conv2D(64, (2, 2), activation='relu', padding='same'))\n",
        "model.add(MaxPooling2D(pool_size=(2, 2)))\n",
        "model.add(Dropout(0.25))"
      ],
      "metadata": {
        "id": "YDGRR4umSPA1"
      },
      "execution_count": 39,
      "outputs": []
    },
    {
      "cell_type": "code",
      "source": [
        "model.add(Flatten())\n",
        "model.add(Dense(1000, activation='relu'))\n",
        "model.add(Dropout(0.5))\n",
        "model.add(Dense(num_classes, activation='softmax'))"
      ],
      "metadata": {
        "id": "eMrdaxhESWlF"
      },
      "execution_count": 40,
      "outputs": []
    },
    {
      "cell_type": "code",
      "source": [
        "batch_size = 128\n",
        "epochs = 12\n",
        "\n",
        "model.compile(loss='categorical_crossentropy', optimizer='adam', metrics=['accuracy'])\n",
        "\n",
        "hist = model.fit(x_train, y_train, batch_size=batch_size, epochs=epochs, verbose=1, validation_data=(x_test, y_test))"
      ],
      "metadata": {
        "colab": {
          "base_uri": "https://localhost:8080/"
        },
        "id": "NtQFm_NTVlKm",
        "outputId": "af1dd9f2-1e02-40f8-a364-0b2f0cc0b5d4"
      },
      "execution_count": 41,
      "outputs": [
        {
          "output_type": "stream",
          "name": "stdout",
          "text": [
            "Epoch 1/12\n",
            "469/469 [==============================] - 5s 7ms/step - loss: 1.5363 - accuracy: 0.9056 - val_loss: 0.0523 - val_accuracy: 0.9819\n",
            "Epoch 2/12\n",
            "469/469 [==============================] - 3s 7ms/step - loss: 0.0941 - accuracy: 0.9710 - val_loss: 0.0415 - val_accuracy: 0.9861\n",
            "Epoch 3/12\n",
            "469/469 [==============================] - 3s 7ms/step - loss: 0.0690 - accuracy: 0.9782 - val_loss: 0.0388 - val_accuracy: 0.9873\n",
            "Epoch 4/12\n",
            "469/469 [==============================] - 3s 7ms/step - loss: 0.0594 - accuracy: 0.9808 - val_loss: 0.0341 - val_accuracy: 0.9883\n",
            "Epoch 5/12\n",
            "469/469 [==============================] - 3s 6ms/step - loss: 0.0514 - accuracy: 0.9837 - val_loss: 0.0325 - val_accuracy: 0.9890\n",
            "Epoch 6/12\n",
            "469/469 [==============================] - 3s 7ms/step - loss: 0.0477 - accuracy: 0.9855 - val_loss: 0.0323 - val_accuracy: 0.9892\n",
            "Epoch 7/12\n",
            "469/469 [==============================] - 3s 7ms/step - loss: 0.0440 - accuracy: 0.9859 - val_loss: 0.0342 - val_accuracy: 0.9891\n",
            "Epoch 8/12\n",
            "469/469 [==============================] - 3s 7ms/step - loss: 0.0491 - accuracy: 0.9850 - val_loss: 0.0302 - val_accuracy: 0.9893\n",
            "Epoch 9/12\n",
            "469/469 [==============================] - 3s 7ms/step - loss: 0.0386 - accuracy: 0.9880 - val_loss: 0.0293 - val_accuracy: 0.9909\n",
            "Epoch 10/12\n",
            "469/469 [==============================] - 3s 6ms/step - loss: 0.0418 - accuracy: 0.9873 - val_loss: 0.0330 - val_accuracy: 0.9890\n",
            "Epoch 11/12\n",
            "469/469 [==============================] - 3s 7ms/step - loss: 0.0438 - accuracy: 0.9874 - val_loss: 0.0409 - val_accuracy: 0.9890\n",
            "Epoch 12/12\n",
            "469/469 [==============================] - 3s 7ms/step - loss: 0.0414 - accuracy: 0.9880 - val_loss: 0.0392 - val_accuracy: 0.9888\n"
          ]
        }
      ]
    },
    {
      "cell_type": "code",
      "source": [
        "plt.figure(figsize=(12,8))\n",
        "#plt.plot(hist.history['loss’])\n",
        "#plt.plot(hist.history['val_loss'])\n",
        "plt.plot(hist.history['accuracy'])\n",
        "plt.plot(hist.history['val_accuracy'])\n",
        "#plt.legend(['loss','val_loss', 'acc','val_acc’])\n",
        "plt.legend(['acc','val_acc'])\n",
        "plt.show()"
      ],
      "metadata": {
        "colab": {
          "base_uri": "https://localhost:8080/",
          "height": 483
        },
        "id": "wsCD8hYOWcnm",
        "outputId": "49e645cc-bfaf-4554-b57c-e227de0dfda9"
      },
      "execution_count": 42,
      "outputs": [
        {
          "output_type": "display_data",
          "data": {
            "text/plain": [
              "<Figure size 864x576 with 1 Axes>"
            ],
            "image/png": "[encoded data removed]"
          },
          "metadata": {
            "needs_background": "light"
          }
        }
      ]
    },
    {
      "cell_type": "code",
      "source": [
        "+import random\n",
        "predicted_result = model.predict(x_test)\n",
        "predicted_labels = np.argmax(predicted_result, axis=1)\n",
        "test_labels = np.argmax(y_test, axis=1)\n",
        "wrong_result = []\n",
        "for n in range(0, len(test_labels)):\n",
        "if predicted_labels[n] != test_labels[n]:\n",
        "wrong_result.append(n)\n",
        "samples = random.choices(population=wrong_result, k=16)\n",
        "count = 0\n",
        "nrows = ncols = 4\n",
        "plt.figure(figsize=(12,8))\n",
        "for n in samples:\n",
        "count += 1\n",
        "plt.subplot(nrows, ncols, count)\n",
        "plt.imshow(x_test[n].reshape(28, 28), cmap='Greys', interpolation='nearest')\n",
        "tmp = \"Label:\" + str(test_labels[n]) + \", Prediction:\" + str(predicted_labels[n])\n",
        "plt.title(tmp)\n",
        "plt.tight_layout()\n",
        "plt.show()"
      ],
      "metadata": {
        "colab": {
          "base_uri": "https://localhost:8080/",
          "height": 140
        },
        "id": "1Tst2UrhW1wl",
        "outputId": "48c41dd6-fd14-4ad2-9e2e-fbbc91d7062b"
      },
      "execution_count": 43,
      "outputs": [
        {
          "output_type": "error",
          "ename": "IndentationError",
          "evalue": "ignored",
          "traceback": [
            "\u001b[0;36m  File \u001b[0;32m\"<ipython-input-43-982e832a750e>\"\u001b[0;36m, line \u001b[0;32m7\u001b[0m\n\u001b[0;31m    if predicted_labels[n] != test_labels[n]:\u001b[0m\n\u001b[0m    ^\u001b[0m\n\u001b[0;31mIndentationError\u001b[0m\u001b[0;31m:\u001b[0m expected an indented block\n"
          ]
        }
      ]
    }
  ]
}